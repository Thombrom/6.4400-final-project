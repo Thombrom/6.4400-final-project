{
 "cells": [
  {
   "cell_type": "markdown",
   "metadata": {},
   "source": [
    "# Surface Simplification Using Quadric Error Metrics\n",
    "\n",
    "Implementation of the surface simplification algorithm described in the paper [Surface Simplification Using Quadric Error Metrics](https://www.cs.cmu.edu/~./garland/Papers/quadrics.pdf) by Michael Garland and Paul S. Heckbert.\n",
    "\n",
    "### Algorithm Summary\n",
    "1. Compute the quadric error matrix, $Q$, for each vertex.\n",
    "2. Select all valid pairs.\n",
    "3. Compute the optimal target vertex, $\\bar{v}$ for each pair. $\\bar{v}^T (Q_1 + Q_2) \\bar{v}$ is the cost of this pair.\n",
    "4. Find the pair with the lowest cost and collapse it.  This can be done with a heap to speed up the process.\n",
    "\n",
    "### Setup\n",
    "Enter the project root directory and run\n",
    "\n",
    "`python3 -m venv venv`\n",
    "\n",
    "`source venv/bin/activate`\n",
    "\n",
    "`pip3 install -r requirements.txt`\n",
    "\n",
    "Then run `jupyter notebook` and open `surface_simplification.ipynb`\n",
    "or use vscode and select venv as the python interpreter."
   ]
  },
  {
   "cell_type": "code",
   "execution_count": 137,
   "metadata": {},
   "outputs": [],
   "source": [
    "import numpy as np\n",
    "import plotly.graph_objects as go\n",
    "\n",
    "# MESH_FNAME = \"../assets/bunny_1k.obj\"\n",
    "MESH_FNAME = \"../assets/cube.obj\"\n",
    "# MESH_FNAME = \"../assets/Model1.obj\""
   ]
  },
  {
   "cell_type": "markdown",
   "metadata": {},
   "source": [
    "### Load Starting Mesh"
   ]
  },
  {
   "cell_type": "code",
   "execution_count": 138,
   "metadata": {},
   "outputs": [],
   "source": [
    "def parse_obj_file(obj_file):\n",
    "    \"\"\"\n",
    "    Parses a .obj file and returns a list of vertices and a face_idicies\n",
    "    :param obj_file: .obj file to parse\n",
    "    :return: array of vertices, array of faces\n",
    "    \"\"\"\n",
    "    vertices = []\n",
    "    faces = []\n",
    "    with open(obj_file, \"r\") as f:\n",
    "        data = f.readlines()\n",
    "        for line in data:\n",
    "            tokens = line.split()\n",
    "            if len(tokens) > 0:\n",
    "                if tokens[0] == \"v\":\n",
    "                    vertex = []\n",
    "                    vertex.append(float(tokens[1]))\n",
    "                    vertex.append(float(tokens[2]))\n",
    "                    vertex.append(float(tokens[3]))\n",
    "                    vertices.append(vertex)\n",
    "                elif tokens[0] == \"f\":\n",
    "                    vertex_idxs = []\n",
    "                    for token_idx in range(1, 4):\n",
    "                        vertex_idx = int(tokens[token_idx].split(\"/\")[0])\n",
    "                        vertex_idxs.append(vertex_idx)\n",
    "                    faces.append(vertex_idxs)\n",
    "                else:\n",
    "                    continue\n",
    "\n",
    "    vertices = np.array(vertices)\n",
    "    faces = np.array(faces)\n",
    "    faces = faces - 1  # Convert from 1 index to 0 index\n",
    "    return vertices, faces\n",
    "\n",
    "\n",
    "def visualize_mesh(vertices, faces):\n",
    "    \"\"\"\n",
    "    Visualizes a mesh using plotly\n",
    "    :param vertices: array of vertices\n",
    "    :param faces: array of faces\n",
    "    \"\"\"\n",
    "    mesh = go.Mesh3d(\n",
    "        x=vertices[:, 0],\n",
    "        y=vertices[:, 1],\n",
    "        z=vertices[:, 2],\n",
    "        i=faces[:, 0],\n",
    "        j=faces[:, 1],\n",
    "        k=faces[:, 2],\n",
    "        color=\"lightpink\",\n",
    "        opacity=0.50,\n",
    "    )\n",
    "\n",
    "    scatter = go.Scatter3d(\n",
    "        x=vertices[:, 0],\n",
    "        y=vertices[:, 1],\n",
    "        z=vertices[:, 2],\n",
    "        mode=\"markers\",\n",
    "        marker=dict(size=2, color=\"blue\"),\n",
    "    )\n",
    "    camera = dict(\n",
    "        up=dict(x=0, y=1, z=0),\n",
    "        center=dict(x=0, y=0, z=0),\n",
    "    )\n",
    "\n",
    "    fig = go.Figure(data=[mesh, scatter])\n",
    "    fig.update_layout(scene_camera=camera, title=\"Original Plot\")\n",
    "    fig.show()"
   ]
  },
  {
   "cell_type": "code",
   "execution_count": 139,
   "metadata": {},
   "outputs": [
    {
     "data": {
      "application/vnd.plotly.v1+json": {
       "config": {
        "plotlyServerURL": "https://plot.ly"
       },
       "data": [
        {
         "color": "lightpink",
         "i": [
          0,
          0,
          4,
          4,
          0,
          0,
          2,
          2,
          0,
          0,
          1,
          1
         ],
         "j": [
          2,
          3,
          5,
          7,
          1,
          5,
          6,
          7,
          4,
          6,
          3,
          7
         ],
         "k": [
          3,
          1,
          7,
          6,
          5,
          4,
          7,
          3,
          6,
          2,
          7,
          5
         ],
         "opacity": 0.5,
         "type": "mesh3d",
         "x": [
          -1,
          1,
          -1,
          1,
          -1,
          1,
          -1,
          1
         ],
         "y": [
          -1,
          -1,
          1,
          1,
          -1,
          -1,
          1,
          1
         ],
         "z": [
          -1,
          -1,
          -1,
          -1,
          1,
          1,
          1,
          1
         ]
        },
        {
         "marker": {
          "color": "blue",
          "size": 2
         },
         "mode": "markers",
         "type": "scatter3d",
         "x": [
          -1,
          1,
          -1,
          1,
          -1,
          1,
          -1,
          1
         ],
         "y": [
          -1,
          -1,
          1,
          1,
          -1,
          -1,
          1,
          1
         ],
         "z": [
          -1,
          -1,
          -1,
          -1,
          1,
          1,
          1,
          1
         ]
        }
       ],
       "layout": {
        "scene": {
         "camera": {
          "center": {
           "x": 0,
           "y": 0,
           "z": 0
          },
          "up": {
           "x": 0,
           "y": 1,
           "z": 0
          }
         }
        },
        "template": {
         "data": {
          "bar": [
           {
            "error_x": {
             "color": "#2a3f5f"
            },
            "error_y": {
             "color": "#2a3f5f"
            },
            "marker": {
             "line": {
              "color": "#E5ECF6",
              "width": 0.5
             },
             "pattern": {
              "fillmode": "overlay",
              "size": 10,
              "solidity": 0.2
             }
            },
            "type": "bar"
           }
          ],
          "barpolar": [
           {
            "marker": {
             "line": {
              "color": "#E5ECF6",
              "width": 0.5
             },
             "pattern": {
              "fillmode": "overlay",
              "size": 10,
              "solidity": 0.2
             }
            },
            "type": "barpolar"
           }
          ],
          "carpet": [
           {
            "aaxis": {
             "endlinecolor": "#2a3f5f",
             "gridcolor": "white",
             "linecolor": "white",
             "minorgridcolor": "white",
             "startlinecolor": "#2a3f5f"
            },
            "baxis": {
             "endlinecolor": "#2a3f5f",
             "gridcolor": "white",
             "linecolor": "white",
             "minorgridcolor": "white",
             "startlinecolor": "#2a3f5f"
            },
            "type": "carpet"
           }
          ],
          "choropleth": [
           {
            "colorbar": {
             "outlinewidth": 0,
             "ticks": ""
            },
            "type": "choropleth"
           }
          ],
          "contour": [
           {
            "colorbar": {
             "outlinewidth": 0,
             "ticks": ""
            },
            "colorscale": [
             [
              0,
              "#0d0887"
             ],
             [
              0.1111111111111111,
              "#46039f"
             ],
             [
              0.2222222222222222,
              "#7201a8"
             ],
             [
              0.3333333333333333,
              "#9c179e"
             ],
             [
              0.4444444444444444,
              "#bd3786"
             ],
             [
              0.5555555555555556,
              "#d8576b"
             ],
             [
              0.6666666666666666,
              "#ed7953"
             ],
             [
              0.7777777777777778,
              "#fb9f3a"
             ],
             [
              0.8888888888888888,
              "#fdca26"
             ],
             [
              1,
              "#f0f921"
             ]
            ],
            "type": "contour"
           }
          ],
          "contourcarpet": [
           {
            "colorbar": {
             "outlinewidth": 0,
             "ticks": ""
            },
            "type": "contourcarpet"
           }
          ],
          "heatmap": [
           {
            "colorbar": {
             "outlinewidth": 0,
             "ticks": ""
            },
            "colorscale": [
             [
              0,
              "#0d0887"
             ],
             [
              0.1111111111111111,
              "#46039f"
             ],
             [
              0.2222222222222222,
              "#7201a8"
             ],
             [
              0.3333333333333333,
              "#9c179e"
             ],
             [
              0.4444444444444444,
              "#bd3786"
             ],
             [
              0.5555555555555556,
              "#d8576b"
             ],
             [
              0.6666666666666666,
              "#ed7953"
             ],
             [
              0.7777777777777778,
              "#fb9f3a"
             ],
             [
              0.8888888888888888,
              "#fdca26"
             ],
             [
              1,
              "#f0f921"
             ]
            ],
            "type": "heatmap"
           }
          ],
          "heatmapgl": [
           {
            "colorbar": {
             "outlinewidth": 0,
             "ticks": ""
            },
            "colorscale": [
             [
              0,
              "#0d0887"
             ],
             [
              0.1111111111111111,
              "#46039f"
             ],
             [
              0.2222222222222222,
              "#7201a8"
             ],
             [
              0.3333333333333333,
              "#9c179e"
             ],
             [
              0.4444444444444444,
              "#bd3786"
             ],
             [
              0.5555555555555556,
              "#d8576b"
             ],
             [
              0.6666666666666666,
              "#ed7953"
             ],
             [
              0.7777777777777778,
              "#fb9f3a"
             ],
             [
              0.8888888888888888,
              "#fdca26"
             ],
             [
              1,
              "#f0f921"
             ]
            ],
            "type": "heatmapgl"
           }
          ],
          "histogram": [
           {
            "marker": {
             "pattern": {
              "fillmode": "overlay",
              "size": 10,
              "solidity": 0.2
             }
            },
            "type": "histogram"
           }
          ],
          "histogram2d": [
           {
            "colorbar": {
             "outlinewidth": 0,
             "ticks": ""
            },
            "colorscale": [
             [
              0,
              "#0d0887"
             ],
             [
              0.1111111111111111,
              "#46039f"
             ],
             [
              0.2222222222222222,
              "#7201a8"
             ],
             [
              0.3333333333333333,
              "#9c179e"
             ],
             [
              0.4444444444444444,
              "#bd3786"
             ],
             [
              0.5555555555555556,
              "#d8576b"
             ],
             [
              0.6666666666666666,
              "#ed7953"
             ],
             [
              0.7777777777777778,
              "#fb9f3a"
             ],
             [
              0.8888888888888888,
              "#fdca26"
             ],
             [
              1,
              "#f0f921"
             ]
            ],
            "type": "histogram2d"
           }
          ],
          "histogram2dcontour": [
           {
            "colorbar": {
             "outlinewidth": 0,
             "ticks": ""
            },
            "colorscale": [
             [
              0,
              "#0d0887"
             ],
             [
              0.1111111111111111,
              "#46039f"
             ],
             [
              0.2222222222222222,
              "#7201a8"
             ],
             [
              0.3333333333333333,
              "#9c179e"
             ],
             [
              0.4444444444444444,
              "#bd3786"
             ],
             [
              0.5555555555555556,
              "#d8576b"
             ],
             [
              0.6666666666666666,
              "#ed7953"
             ],
             [
              0.7777777777777778,
              "#fb9f3a"
             ],
             [
              0.8888888888888888,
              "#fdca26"
             ],
             [
              1,
              "#f0f921"
             ]
            ],
            "type": "histogram2dcontour"
           }
          ],
          "mesh3d": [
           {
            "colorbar": {
             "outlinewidth": 0,
             "ticks": ""
            },
            "type": "mesh3d"
           }
          ],
          "parcoords": [
           {
            "line": {
             "colorbar": {
              "outlinewidth": 0,
              "ticks": ""
             }
            },
            "type": "parcoords"
           }
          ],
          "pie": [
           {
            "automargin": true,
            "type": "pie"
           }
          ],
          "scatter": [
           {
            "fillpattern": {
             "fillmode": "overlay",
             "size": 10,
             "solidity": 0.2
            },
            "type": "scatter"
           }
          ],
          "scatter3d": [
           {
            "line": {
             "colorbar": {
              "outlinewidth": 0,
              "ticks": ""
             }
            },
            "marker": {
             "colorbar": {
              "outlinewidth": 0,
              "ticks": ""
             }
            },
            "type": "scatter3d"
           }
          ],
          "scattercarpet": [
           {
            "marker": {
             "colorbar": {
              "outlinewidth": 0,
              "ticks": ""
             }
            },
            "type": "scattercarpet"
           }
          ],
          "scattergeo": [
           {
            "marker": {
             "colorbar": {
              "outlinewidth": 0,
              "ticks": ""
             }
            },
            "type": "scattergeo"
           }
          ],
          "scattergl": [
           {
            "marker": {
             "colorbar": {
              "outlinewidth": 0,
              "ticks": ""
             }
            },
            "type": "scattergl"
           }
          ],
          "scattermapbox": [
           {
            "marker": {
             "colorbar": {
              "outlinewidth": 0,
              "ticks": ""
             }
            },
            "type": "scattermapbox"
           }
          ],
          "scatterpolar": [
           {
            "marker": {
             "colorbar": {
              "outlinewidth": 0,
              "ticks": ""
             }
            },
            "type": "scatterpolar"
           }
          ],
          "scatterpolargl": [
           {
            "marker": {
             "colorbar": {
              "outlinewidth": 0,
              "ticks": ""
             }
            },
            "type": "scatterpolargl"
           }
          ],
          "scatterternary": [
           {
            "marker": {
             "colorbar": {
              "outlinewidth": 0,
              "ticks": ""
             }
            },
            "type": "scatterternary"
           }
          ],
          "surface": [
           {
            "colorbar": {
             "outlinewidth": 0,
             "ticks": ""
            },
            "colorscale": [
             [
              0,
              "#0d0887"
             ],
             [
              0.1111111111111111,
              "#46039f"
             ],
             [
              0.2222222222222222,
              "#7201a8"
             ],
             [
              0.3333333333333333,
              "#9c179e"
             ],
             [
              0.4444444444444444,
              "#bd3786"
             ],
             [
              0.5555555555555556,
              "#d8576b"
             ],
             [
              0.6666666666666666,
              "#ed7953"
             ],
             [
              0.7777777777777778,
              "#fb9f3a"
             ],
             [
              0.8888888888888888,
              "#fdca26"
             ],
             [
              1,
              "#f0f921"
             ]
            ],
            "type": "surface"
           }
          ],
          "table": [
           {
            "cells": {
             "fill": {
              "color": "#EBF0F8"
             },
             "line": {
              "color": "white"
             }
            },
            "header": {
             "fill": {
              "color": "#C8D4E3"
             },
             "line": {
              "color": "white"
             }
            },
            "type": "table"
           }
          ]
         },
         "layout": {
          "annotationdefaults": {
           "arrowcolor": "#2a3f5f",
           "arrowhead": 0,
           "arrowwidth": 1
          },
          "autotypenumbers": "strict",
          "coloraxis": {
           "colorbar": {
            "outlinewidth": 0,
            "ticks": ""
           }
          },
          "colorscale": {
           "diverging": [
            [
             0,
             "#8e0152"
            ],
            [
             0.1,
             "#c51b7d"
            ],
            [
             0.2,
             "#de77ae"
            ],
            [
             0.3,
             "#f1b6da"
            ],
            [
             0.4,
             "#fde0ef"
            ],
            [
             0.5,
             "#f7f7f7"
            ],
            [
             0.6,
             "#e6f5d0"
            ],
            [
             0.7,
             "#b8e186"
            ],
            [
             0.8,
             "#7fbc41"
            ],
            [
             0.9,
             "#4d9221"
            ],
            [
             1,
             "#276419"
            ]
           ],
           "sequential": [
            [
             0,
             "#0d0887"
            ],
            [
             0.1111111111111111,
             "#46039f"
            ],
            [
             0.2222222222222222,
             "#7201a8"
            ],
            [
             0.3333333333333333,
             "#9c179e"
            ],
            [
             0.4444444444444444,
             "#bd3786"
            ],
            [
             0.5555555555555556,
             "#d8576b"
            ],
            [
             0.6666666666666666,
             "#ed7953"
            ],
            [
             0.7777777777777778,
             "#fb9f3a"
            ],
            [
             0.8888888888888888,
             "#fdca26"
            ],
            [
             1,
             "#f0f921"
            ]
           ],
           "sequentialminus": [
            [
             0,
             "#0d0887"
            ],
            [
             0.1111111111111111,
             "#46039f"
            ],
            [
             0.2222222222222222,
             "#7201a8"
            ],
            [
             0.3333333333333333,
             "#9c179e"
            ],
            [
             0.4444444444444444,
             "#bd3786"
            ],
            [
             0.5555555555555556,
             "#d8576b"
            ],
            [
             0.6666666666666666,
             "#ed7953"
            ],
            [
             0.7777777777777778,
             "#fb9f3a"
            ],
            [
             0.8888888888888888,
             "#fdca26"
            ],
            [
             1,
             "#f0f921"
            ]
           ]
          },
          "colorway": [
           "#636efa",
           "#EF553B",
           "#00cc96",
           "#ab63fa",
           "#FFA15A",
           "#19d3f3",
           "#FF6692",
           "#B6E880",
           "#FF97FF",
           "#FECB52"
          ],
          "font": {
           "color": "#2a3f5f"
          },
          "geo": {
           "bgcolor": "white",
           "lakecolor": "white",
           "landcolor": "#E5ECF6",
           "showlakes": true,
           "showland": true,
           "subunitcolor": "white"
          },
          "hoverlabel": {
           "align": "left"
          },
          "hovermode": "closest",
          "mapbox": {
           "style": "light"
          },
          "paper_bgcolor": "white",
          "plot_bgcolor": "#E5ECF6",
          "polar": {
           "angularaxis": {
            "gridcolor": "white",
            "linecolor": "white",
            "ticks": ""
           },
           "bgcolor": "#E5ECF6",
           "radialaxis": {
            "gridcolor": "white",
            "linecolor": "white",
            "ticks": ""
           }
          },
          "scene": {
           "xaxis": {
            "backgroundcolor": "#E5ECF6",
            "gridcolor": "white",
            "gridwidth": 2,
            "linecolor": "white",
            "showbackground": true,
            "ticks": "",
            "zerolinecolor": "white"
           },
           "yaxis": {
            "backgroundcolor": "#E5ECF6",
            "gridcolor": "white",
            "gridwidth": 2,
            "linecolor": "white",
            "showbackground": true,
            "ticks": "",
            "zerolinecolor": "white"
           },
           "zaxis": {
            "backgroundcolor": "#E5ECF6",
            "gridcolor": "white",
            "gridwidth": 2,
            "linecolor": "white",
            "showbackground": true,
            "ticks": "",
            "zerolinecolor": "white"
           }
          },
          "shapedefaults": {
           "line": {
            "color": "#2a3f5f"
           }
          },
          "ternary": {
           "aaxis": {
            "gridcolor": "white",
            "linecolor": "white",
            "ticks": ""
           },
           "baxis": {
            "gridcolor": "white",
            "linecolor": "white",
            "ticks": ""
           },
           "bgcolor": "#E5ECF6",
           "caxis": {
            "gridcolor": "white",
            "linecolor": "white",
            "ticks": ""
           }
          },
          "title": {
           "x": 0.05
          },
          "xaxis": {
           "automargin": true,
           "gridcolor": "white",
           "linecolor": "white",
           "ticks": "",
           "title": {
            "standoff": 15
           },
           "zerolinecolor": "white",
           "zerolinewidth": 2
          },
          "yaxis": {
           "automargin": true,
           "gridcolor": "white",
           "linecolor": "white",
           "ticks": "",
           "title": {
            "standoff": 15
           },
           "zerolinecolor": "white",
           "zerolinewidth": 2
          }
         }
        },
        "title": {
         "text": "Original Plot"
        }
       }
      }
     },
     "metadata": {},
     "output_type": "display_data"
    }
   ],
   "source": [
    "vertices, faces = parse_obj_file(MESH_FNAME)\n",
    "visualize_mesh(vertices, faces)"
   ]
  },
  {
   "cell_type": "markdown",
   "metadata": {},
   "source": [
    "### Compute Quadric Error Matrices"
   ]
  },
  {
   "cell_type": "code",
   "execution_count": 140,
   "metadata": {},
   "outputs": [],
   "source": [
    "def compute_plane(p1, p2, p3):\n",
    "    \"\"\"\n",
    "    Computes the plane defined by three points\n",
    "    :param p1: first point\n",
    "    :param p2: second point\n",
    "    :param p3: third point\n",
    "    :return: np.array([[a, b, c, d]]).T\n",
    "    \"\"\"\n",
    "    v1 = p2 - p1\n",
    "    v2 = p3 - p1\n",
    "    normal = np.cross(v1, v2)\n",
    "    normal = normal / np.linalg.norm(normal)\n",
    "    d = -np.dot(normal, p1)\n",
    "    return np.concatenate((normal, np.array([d]))).reshape((4, 1))\n",
    "\n",
    "\n",
    "def get_Q_matricies(vertices, faces):\n",
    "    \"\"\"\n",
    "    Computes the Q matrix for each vertex in the mesh\n",
    "    :param vertices: array of vertices\n",
    "    :param faces: array of faces\n",
    "    :return: array of Q matrix for each vertex\n",
    "    \"\"\"\n",
    "    Q_matricies = np.zeros((vertices.shape[0], 4, 4))\n",
    "    for face_idx in range(faces.shape[0]):\n",
    "        face = faces[face_idx]\n",
    "        p = compute_plane(vertices[face[0]], vertices[face[1]], vertices[face[2]])\n",
    "        K_p = p @ p.T\n",
    "        for vertex_idx in face:\n",
    "            Q_matricies[vertex_idx] += K_p\n",
    "\n",
    "    return Q_matricies"
   ]
  },
  {
   "cell_type": "code",
   "execution_count": 141,
   "metadata": {},
   "outputs": [
    {
     "name": "stdout",
     "output_type": "stream",
     "text": [
      "First Q Matrix:\n",
      "[[2. 0. 0. 2.]\n",
      " [0. 2. 0. 2.]\n",
      " [0. 0. 2. 2.]\n",
      " [2. 2. 2. 6.]]\n"
     ]
    }
   ],
   "source": [
    "Q_matricies = get_Q_matricies(vertices, faces)\n",
    "print(\"First Q Matrix:\")\n",
    "print(Q_matricies[0])"
   ]
  },
  {
   "cell_type": "markdown",
   "metadata": {},
   "source": [
    "### Select Valid Pairs"
   ]
  },
  {
   "cell_type": "code",
   "execution_count": 142,
   "metadata": {},
   "outputs": [],
   "source": [
    "def get_pairs(faces, t):\n",
    "    \"\"\"\n",
    "    Computes the pairs of vertices that are connected by an edge\n",
    "    :param faces: array of faces\n",
    "    :param t: threshold for distance between vertices.\n",
    "    :return: array of vertex pairs\n",
    "\n",
    "    Note: Set the threshold to 0 for large models.  We currently\n",
    "    use a O(n^2) algorithm to compute the pairs.  This could probably be faster\n",
    "    using KD trees or something similar.\n",
    "    \"\"\"\n",
    "    pairs = set()\n",
    "\n",
    "    # Add edges\n",
    "    for face_idx in range(faces.shape[0]):\n",
    "        face = faces[face_idx]\n",
    "        for combo in [(0, 1), (1, 2), (2, 0)]:\n",
    "            v1 = face[combo[0]]\n",
    "            v2 = face[combo[1]]\n",
    "            pair = min(v1, v2), max(v1, v2)\n",
    "            pairs.add(pair)\n",
    "\n",
    "    # Add thresholded distances\n",
    "    if t > 0:\n",
    "        for vertex_idx in range(vertices.shape[0]):\n",
    "            for neighbor_idx in range(vertices.shape[0]):\n",
    "                dist = np.linalg.norm(vertices[vertex_idx] - vertices[neighbor_idx])\n",
    "                if (vertex_idx != neighbor_idx) and (dist < t):\n",
    "                    pair = min(vertex_idx, neighbor_idx), max(vertex_idx, neighbor_idx)\n",
    "                    pairs.add(pair)\n",
    "\n",
    "    return pairs"
   ]
  },
  {
   "cell_type": "code",
   "execution_count": 143,
   "metadata": {},
   "outputs": [],
   "source": [
    "pairs = get_pairs(faces, 4)"
   ]
  },
  {
   "cell_type": "markdown",
   "metadata": {},
   "source": [
    "### Compute Contraction Targets and Costs"
   ]
  },
  {
   "cell_type": "code",
   "execution_count": 144,
   "metadata": {},
   "outputs": [
    {
     "name": "stdout",
     "output_type": "stream",
     "text": [
      "8.0\n",
      "4.0\n",
      "2.0\n",
      "4.0\n",
      "4.0\n",
      "5.333333333333334\n",
      "8.0\n",
      "8.0\n",
      "2.0\n",
      "2.0\n",
      "5.333333333333334\n",
      "5.333333333333333\n",
      "4.0\n",
      "12.0\n",
      "5.333333333333333\n",
      "5.333333333333334\n",
      "4.0\n",
      "5.333333333333334\n",
      "2.0\n",
      "4.0\n",
      "5.333333333333333\n",
      "5.333333333333333\n",
      "5.333333333333333\n",
      "5.333333333333333\n",
      "5.333333333333334\n",
      "2.0\n",
      "5.333333333333334\n",
      "2.0\n"
     ]
    }
   ],
   "source": [
    "def get_cost(v1, v2, Q1, Q2):\n",
    "    \"\"\"\n",
    "    Computes the cost of contracting v1 and v2\n",
    "    :param v1: first vertex\n",
    "    :param v2: second vertex\n",
    "    :param Q1: Q matrix for v1\n",
    "    :param Q2: Q matrix for v2\n",
    "    :return: v_bar, cost of contracting v1 and v2\n",
    "    \"\"\"\n",
    "    Q_bar = Q1 + Q2\n",
    "    working_Q_bar = Q_bar.copy()\n",
    "    working_Q_bar[3, :] = 0\n",
    "    working_Q_bar[3, 3] = 1\n",
    "    if np.linalg.cond(working_Q_bar) < 1/np.finfo(float).eps:\n",
    "        v_bar = np.linalg.inv(working_Q_bar) @ np.array([0, 0, 0, 1]).T\n",
    "    else:\n",
    "        print(\"Singular Q\")\n",
    "        # Find best v by checking endpoints and midpoint if\n",
    "        # Q_bar is not invertible\n",
    "        c1 = v1.T @ Q_bar @ v1\n",
    "        c2 = v2.T @ Q_bar @ v2\n",
    "        v_mid = (v1 + v2) / 2\n",
    "        c_bar = v_mid @ Q_bar @ v_mid\n",
    "\n",
    "        if c_bar < c1 and c_bar < c2:\n",
    "            v_bar = v_mid\n",
    "        elif c1 < c2:\n",
    "            v_bar = v1\n",
    "        else:\n",
    "            v_bar = v2\n",
    "\n",
    "    return v_bar, v_bar.T @ Q_bar @ v_bar\n",
    "\n",
    "for pair in pairs:\n",
    "    v1 = vertices[pair[0]]\n",
    "    v2 = vertices[pair[1]]\n",
    "    Q1 = Q_matricies[pair[0]]\n",
    "    Q2 = Q_matricies[pair[1]]\n",
    "    v_bar, cost = get_cost(v1, v2, Q1, Q2)\n",
    "    print(cost)"
   ]
  },
  {
   "cell_type": "code",
   "execution_count": null,
   "metadata": {},
   "outputs": [],
   "source": []
  }
 ],
 "metadata": {
  "kernelspec": {
   "display_name": ".venv",
   "language": "python",
   "name": "python3"
  },
  "language_info": {
   "codemirror_mode": {
    "name": "ipython",
    "version": 3
   },
   "file_extension": ".py",
   "mimetype": "text/x-python",
   "name": "python",
   "nbconvert_exporter": "python",
   "pygments_lexer": "ipython3",
   "version": "3.11.4"
  }
 },
 "nbformat": 4,
 "nbformat_minor": 2
}
